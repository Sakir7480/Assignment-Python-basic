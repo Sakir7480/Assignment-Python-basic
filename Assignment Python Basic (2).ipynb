{
 "cells": [
  {
   "cell_type": "raw",
   "id": "f4175fea-ae5c-457b-8075-bc2e5ded0dda",
   "metadata": {},
   "source": [
    "\n",
    "                      Python Basics Questions\n",
    "\n",
    "1. What is Python, and why is it popular?\n",
    "  -Python is a high-level, general-purpose programming language known for its simplicity and readability. It was created by Guido van Rossum and first released in 1991. Python emphasizes code readability and allows developers to express ideas in fewer lines of code compared to many other programming languages.\n",
    "* Key Features of Python:\n",
    "1. Easy to Learn and Use\n",
    "2. xtensive Libraries and Frameworks\n",
    "3. Cross-Platform\n",
    "\n",
    "* Why is Python Popular?\n",
    " - Simplicity and Productivity:\n",
    "    . Python’s clean and concise syntax reduces development time and complexity.\n",
    " - Wide Range of Applications:\n",
    "    . Web Development: Frameworks like Django and Flask simplify building web applications. \n",
    " - Community Support:\n",
    "   . A vast community ensures that any challenges or questions are met with quick solutions,              tutorials, and forums.\n",
    " \n",
    "2. What is an interpreter in Python?\n",
    "  - An interpreter in Python is a program that executes Python code line by line, translating it into machine-readable instructions. Python is an interpreted language, meaning its code does not need to be compiled into a machine-readable format before execution. Instead, the interpreter reads the code and executes it directly.\n",
    "\n",
    "3. What are pre-defined keywords in Python?\n",
    " - Pre-defined keywords in Python are reserved words that have specific meanings and purposes in the language. These keywords are part of Python's syntax and cannot be used as identifiers (like variable names, function names, or class names). \n",
    "\n",
    " *Characteristics of Keywords in Python:\n",
    " 1.Case-Sensitive: Keywords are case-sensitive. For example, if is a valid keyword, but If is not.\n",
    " 2. Fixed Purpose: Each keyword has a predefined purpose or role in the language.\n",
    " 3. Non-Overridable: You cannot use keywords for other purposes in your code.\n",
    "\n",
    "4. Can keywords be used as variable names?\n",
    "- No, keywords cannot be used as variable names in Python because they are reserved words with special meanings in the language. Attempting to use a keyword as a variable name will result in a SyntaxError.\n",
    "\n",
    "5. What is mutability in Python?\n",
    " - In Python, mutability refers to whether an object can be changed after it is created. Some objects in Python are mutable, meaning their content or state can be modified after creation, while others are immutable, meaning their content cannot be changed once they are created.\n",
    " - Mutable Objects\n",
    "Mutable objects can be modified after they are created. This means you can change the values stored in the object, such as modifying a list by adding, removing, or updating its elements.\n",
    "\n",
    "Examples of mutable objects in Python include:\n",
    "  *Lists (list)\n",
    "  *Dictionaries (dict)\n",
    "  *Sets (set) \n",
    "\n",
    "6. Why are lists mutable, but tuples are immutable?\n",
    " - The reason why lists are mutable and tuples are immutable in Python is largely based on design choices related to performance, flexibility, and intended use cases\n",
    "\n",
    " *  Here's a more detailed explanation: \n",
    "1. Lists are designed for flexibility and modification\n",
    " *Use case: Lists are typically used when you need to store a collection of items that can change over time, such as adding, removing, or modifying elements.\n",
    " *Mutability: The mutability of lists allows you to modify their content in place. This is useful for scenarios where you need to frequently alter the collection, such as dynamically adjusting the size of the list, or performing operations like appending, removing, or changing elements.\n",
    " *Implementation: Lists in Python are implemented as dynamic arrays (essentially arrays that can grow or shrink as needed). This design allows for efficient in-place modifications, such as appending an element or changing an element at a specific index.\n",
    "\n",
    "2.Tuples are designed for immutability and safety\n",
    "*Use case: Tuples are used when you want a collection of items that should not change after creation. They are often used to represent fixed collections of data, such as coordinates, RGB values, or pairs of related values.\n",
    "*Immutability: Tuples are immutable to ensure that their content cannot be altered, which makes them useful for cases where you want to guarantee data integrity and prevent accidental changes. *Immutability also allows tuples to be safely used as keys in dictionaries (which requires objects to be hashable), as their content cannot change.\n",
    "Performance: Since tuples are immutable, they are stored in a more optimized way in memory. Python can make certain optimizations (such as caching the object) for immutable objects, which improves performance, especially when you have many of them.\n",
    "\n",
    "7. What is the difference between “==” and “is” operators in Python? \n",
    " - In Python, both the == and is operators are used to compare values, but they do so in different ways. Here's a detailed explanation of each:\n",
    "\n",
    "1. == (Equality Operator)\n",
    " . The == operator checks value equality. It compares the contents of two objects, i.e., it checks if the values of the two objects are the same, regardless of whether they are the same object in memory.\n",
    "  . Use case: When you want to check if two objects have the same value.\n",
    "\n",
    "2. is (Identity Operator)\n",
    "The is operator checks identity. It compares whether two variables refer to the same object in memory (i.e., whether they are the same object, not just equivalent).\n",
    "Use case: When you want to check if two variables point to the same object in memory.\n",
    "\n",
    "8. What are logical operators in Python?\n",
    "- In Python, logical operators are used to perform logical operations on Boolean values (True or False). They are primarily used to combine multiple conditions or expressions and evaluate them as a single result.\n",
    "\n",
    "* There are three main logical operators in Python:\n",
    "1. and\n",
    "2. or\n",
    "3. not \n",
    "\n",
    "9.What is type casting in Python?\n",
    "- Type casting in Python refers to the process of converting a variable from one data type to another. This is commonly done when you need to ensure that operations between variables are valid or when you want to convert data into a specific format for processing.\n",
    "\n",
    " *  Types of Type Casting:\n",
    "   . There are two main types of type casting in Python:\n",
    "\n",
    " 1. Implicit Type Casting (also known as Type Coercion)\n",
    " 2. Explicit Type Casting (using casting functions)\n",
    "\n",
    "10. What is the difference between implicit and explicit type casting ?\n",
    " - The difference between implicit and explicit type casting in Python lies in who controls the conversion and how it happens. Here's a breakdown of each:\n",
    " 1. 1. Implicit Type Casting (Automatic Type Conversion)\n",
    " . Definition: Implicit type casting (also known as type coercion) occurs automatically when Python     converts a smaller data type to a larger one. This happens behind the scenes without needing any     explicit instruction from the programmer.\n",
    " . When it happens: Python does this when it needs to preserve the information and prevent data loss    (e.g., converting an integer to a float).\n",
    " . Use case: This type of conversion is safe and Python does it in operations involving mixed data      types.\n",
    "\n",
    "11. What is the purpose of conditional statements in Python?\n",
    " - Conditional statements in Python are used to perform different actions based on whether a given     condition or set of conditions is true or false. They allow the program to make decisions and         control the flow of execution, depending on the values of variables or the outcome of                expressions.\n",
    "*  Purpose of Conditional Statements:\n",
    "  .Decision-making: Conditional statements enable the program to \"choose\" between different courses     of action.\n",
    "  .Flow Control: They allow you to control the flow of execution in your program by specifying          conditions that must be true or false to trigger certain blocks of code.\n",
    "  .Simplifying Logic: By using conditional logic, you can avoid repetitive code and create more         flexible, efficient programs.\n",
    "12. How does the elif statement work ?\n",
    " - The elif statement in Python is used to check multiple conditions in a series. It forms part of the if-elif-else construct and allows you to test several expressions for truth, executing the block of code for the first True condition. If none of the conditions are true, the else block (if provided) will be executed.\n",
    "* How the elif Statement Works:\n",
    "  .If the condition in the if statement is true, the code block below that if is run, and the rest      of the elif and else blocks are skipped.\n",
    "   The programme will check the condition given in the first elif if the if condition is False. If      the elif condition holds true, then that particular block of code will execute while the rest of     the conditions will be skipped.\n",
    "  .If none of the if or elif conditions are True, the code inside the else block-if it exists-will      be run.\n",
    "\n",
    " 13 What is the difference between for and while loops?\n",
    "  - In Python, both for and while loops are used for iteration, but they differ in how and when they     execute the loop body.\n",
    "  * Here's a breakdown of the differences between the two:\n",
    "  1. for Loop:\n",
    "   .Purpose: A for loop is used when you want to iterate over a sequence-like a list, tuple, string,     or range-or any iterable object.\n",
    "   .How it works: The for loop iterates over a known sequence of elements, executing the loop body       for each item in the sequence.\n",
    "   .Use case: When you know how many times you want to repeat the loop, like iterating over elements     in a list or a range of numbers.\n",
    "  2. while Loop:\n",
    "   .Purpose: A while loop is used when you want to repeat an action while a condition is true. The       loop continues executing as long as the condition remains true.\n",
    "   .How it works: The while loop evaluates the condition before each iteration. If the condition is      true, the loop body is executed; otherwise, the loop terminates.\n",
    "   .Use case: When you do not know how many times the loop should execute in advance, but you want       to keep iterating as long as a condition is true.\n",
    "\n",
    " 14. Describe a scenario where a while loop is more suitable than a for loop.\n",
    "   - A while loop is more suitable than a for loop in situations where you do not know the number of     iterations in advance and need to repeat an action as long as a certain condition is true. A         while loop continues to execute as long as the condition remains true, making it ideal for           situations that involve waiting for a specific event, performing a task until a state changes,       or when you're waiting for user input or external data.\n",
    "\n",
    "\n",
    "\n",
    "\n",
    "\n",
    "  \n",
    " \n",
    "\n",
    "\n",
    "\n",
    "\n",
    "  - \n",
    "\n",
    "\n",
    "\n",
    "\n",
    "\n",
    "\n",
    "\n",
    "\n",
    "\n",
    "\n",
    "\n",
    " - \n",
    "\n",
    " \n",
    "\n",
    "\n",
    "\n",
    " - \n",
    "\n",
    "\n",
    "\n",
    "\n",
    "\n"
   ]
  },
  {
   "cell_type": "code",
   "execution_count": null,
   "id": "5592d3ff-e7f2-4415-9d9d-30bb008ba01d",
   "metadata": {},
   "outputs": [],
   "source": [
    "# Practical Questions\n",
    "1. 20 Write a Python program to print \"Hello, World!\"\n",
    "\n"
   ]
  },
  {
   "cell_type": "code",
   "execution_count": 2,
   "id": "8916bee2-2331-44d0-9445-9394994b5c41",
   "metadata": {},
   "outputs": [
    {
     "name": "stdout",
     "output_type": "stream",
     "text": [
      "Hello world\n"
     ]
    }
   ],
   "source": [
    "print(\"Hello world\")"
   ]
  },
  {
   "cell_type": "code",
   "execution_count": 4,
   "id": "14b7bc7d-a8ce-49a7-92c0-3d8565251212",
   "metadata": {},
   "outputs": [],
   "source": [
    "# 2.Write a Python program that displays your name and age"
   ]
  },
  {
   "cell_type": "code",
   "execution_count": 20,
   "id": "cf8f2a7f-0e75-4864-8d50-8fd57552d011",
   "metadata": {},
   "outputs": [
    {
     "name": "stdout",
     "output_type": "stream",
     "text": [
      "Sakir\n"
     ]
    }
   ],
   "source": [
    "name= (\"Sakir\")\n",
    "print(name)"
   ]
  },
  {
   "cell_type": "code",
   "execution_count": 22,
   "id": "156f8cb8-12fe-427e-858b-f28a89c6add6",
   "metadata": {},
   "outputs": [
    {
     "name": "stdout",
     "output_type": "stream",
     "text": [
      "22\n"
     ]
    }
   ],
   "source": [
    "age=(\"22\")\n",
    "print(age)"
   ]
  },
  {
   "cell_type": "code",
   "execution_count": 24,
   "id": "8bf4ec8e-788d-47b2-963b-69908bb6b158",
   "metadata": {},
   "outputs": [],
   "source": [
    "# 3. Write code to print all the pre-defined keywords in Python using the keyword library ?\n"
   ]
  },
  {
   "cell_type": "code",
   "execution_count": 26,
   "id": "c0d49d71-6ef6-46fe-add6-85c362088cef",
   "metadata": {},
   "outputs": [
    {
     "name": "stdout",
     "output_type": "stream",
     "text": [
      "['False', 'None', 'True', 'and', 'as', 'assert', 'async', 'await', 'break', 'class', 'continue', 'def', 'del', 'elif', 'else', 'except', 'finally', 'for', 'from', 'global', 'if', 'import', 'in', 'is', 'lambda', 'nonlocal', 'not', 'or', 'pass', 'raise', 'return', 'try', 'while', 'with', 'yield']\n"
     ]
    }
   ],
   "source": [
    "import keyword\n",
    "\n",
    "# Print all the pre-defined keywords in Python\n",
    "print(keyword.kwlist)\n"
   ]
  },
  {
   "cell_type": "raw",
   "id": "7e7e9285-77a2-4de1-9307-ae69b9277901",
   "metadata": {},
   "source": [
    "# 5. Create a list and tuple in Python, and demonstrate how attempting to change an element works differently\n",
    "for each ?"
   ]
  },
  {
   "cell_type": "raw",
   "id": "e0cfd73c-86ad-4c1c-be5d-ed88ad95cb7c",
   "metadata": {},
   "source": [
    "# Create a list\n",
    "my_list = [10, 20, 30, 40, 50]\n",
    "\n",
    "# Create a tuple\n",
    "my_tuple = (10, 20, 30, 40, 50)\n",
    "\n",
    "# Attempting to change an element in the list\n",
    "print(\"Original list:\", my_list)\n",
    "my_list[2] = 100  # Change the third element (index 2)\n",
    "print(\"Updated list:\", my_list)\n",
    "\n",
    "# Attempting to change an element in the tuple\n",
    "print(\"\\nOriginal tuple:\", my_tuple)\n",
    "try:\n",
    "    my_tuple[2] = 100  # This will raise an error because tuples are immutable\n",
    "except TypeError as e:\n",
    "    print(\"Error while modifying tuple:\", e)\n"
   ]
  },
  {
   "cell_type": "markdown",
   "id": "88f6c96d-fdfe-47f9-8383-f258a9ba4c8a",
   "metadata": {},
   "source": []
  },
  {
   "cell_type": "code",
   "execution_count": null,
   "id": "f0101115-6a2c-4fe8-9b01-7be1419f9733",
   "metadata": {},
   "outputs": [],
   "source": [
    "# 6. Write a function to demonstrate the behavior of mutable and immutable arguments?\n"
   ]
  },
  {
   "cell_type": "code",
   "execution_count": null,
   "id": "ba11b376-8960-46fa-b308-47fba835aedc",
   "metadata": {},
   "outputs": [],
   "source": [
    "def modify_arguments(mutable_arg, immutable_arg):\n",
    "    print(\"Before modification:\")\n",
    "    print(\"Mutable argument:\", mutable_arg)\n",
    "    print(\"Immutable argument:\", immutable_arg)\n",
    "    \n",
    "    # Modify mutable argument (e.g., a list)\n",
    "    mutable_arg.append(100)\n",
    "    \n",
    "    # Try modifying the immutable argument (e.g., an integer)\n",
    "    immutable_arg += 10\n",
    "    \n",
    "    print(\"\\nAfter modification:\")\n",
    "    print(\"Mutable argument:\", mutable_arg)\n",
    "    print(\"Immutable argument:\", immutable_arg)\n",
    "\n",
    "\n",
    "# Create a mutable argument (list) and an immutable argument (integer)\n",
    "mutable_list = [1, 2, 3]\n",
    "immutable_int = 5\n",
    "\n",
    "# Call the function\n",
    "modify_arguments(mutable_list, immutable_int)\n",
    "\n",
    "# Check the values outside the function\n",
    "print(\"\\nOutside the function:\")\n",
    "print(\"Mutable list:\", mutable_list)  # List is modified\n",
    "print(\"Immutable integer:\", immutable_int)  # Integer is unchanged\n"
   ]
  },
  {
   "cell_type": "code",
   "execution_count": null,
   "id": "08121d15-0957-44f0-a8d6-281e852c4ca7",
   "metadata": {},
   "outputs": [],
   "source": [
    "# 7. Write a function to demonstrate the behavior of mutable and immutable arguments?\n"
   ]
  },
  {
   "cell_type": "code",
   "execution_count": null,
   "id": "68b051b2-c89a-42fd-bb92-453c579c0adc",
   "metadata": {},
   "outputs": [],
   "source": [
    "def demonstrate_mutable_immutable(mutable_arg, immutable_arg):\n",
    "    print(\"Before modification:\")\n",
    "    print(\"Mutable argument:\", mutable_arg)\n",
    "    print(\"Immutable argument:\", immutable_arg)\n",
    "    \n",
    "    # Modify the mutable argument (e.g., list)\n",
    "    mutable_arg.append(4)  # Append a new element to the list\n",
    "    \n",
    "    # Try modifying the immutable argument (e.g., integer)\n",
    "    immutable_arg += 5  # Add 5 to the integer (this creates a new integer)\n",
    "    \n",
    "    print(\"\\nAfter modification inside the function:\")\n",
    "    print(\"Mutable argument:\", mutable_arg)\n",
    "    print(\"Immutable argument:\", immutable_arg)\n",
    "\n",
    "# Example of mutable and immutable arguments\n",
    "mutable_list = [1, 2, 3]\n",
    "immutable_int = 10\n",
    "\n",
    "# Call the function\n",
    "demonstrate_mutable_immutable(mutable_list, immutable_int)\n",
    "\n",
    "# Check values outside the function\n",
    "print(\"\\nOutside the function:\")\n",
    "print(\"Mutable list:\", mutable_list)  # The list should reflect the change\n",
    "print(\"Immutable integer:\", immutable_int)  # The integer should remain unchanged\n"
   ]
  },
  {
   "cell_type": "code",
   "execution_count": null,
   "id": "757f980f-faf6-4a6f-9236-9f3a25cdfffa",
   "metadata": {},
   "outputs": [],
   "source": [
    "# 8. Write a program to demonstrate the use of logical operators . \n"
   ]
  },
  {
   "cell_type": "code",
   "execution_count": null,
   "id": "ecab3166-4878-4a6c-9e8d-a34fac7a7c5e",
   "metadata": {},
   "outputs": [],
   "source": [
    "def logical_operators_demo(a, b):\n",
    "    print(f\"Values: a = {a}, b = {b}\")\n",
    "    \n",
    "    # Using the 'and' operator\n",
    "    if a > 0 and b > 0:\n",
    "        print(\"Both a and b are positive.\")\n",
    "    else:\n",
    "        print(\"At least one of a or b is not positive.\")\n",
    "    \n",
    "    # Using the 'or' operator\n",
    "    if a > 0 or b > 0:\n",
    "        print(\"At least one of a or b is positive.\")\n",
    "    else:\n",
    "        print(\"Neither a nor b is positive.\")\n",
    "    \n",
    "    # Using the 'not' operator\n",
    "    if not (a > 0):\n",
    "        print(\"a is not positive.\")\n",
    "    else:\n",
    "        print(\"a is positive.\")\n",
    "\n",
    "# Example of logical operators\n",
    "logical_operators_demo(5, -3)\n",
    "print()  # Add a blank line\n",
    "logical_operators_demo(-1, -2)\n"
   ]
  },
  {
   "cell_type": "code",
   "execution_count": null,
   "id": "d74cb6d5-3f5f-4e40-a340-88e58c4634da",
   "metadata": {},
   "outputs": [],
   "source": [
    "# 9. Write a Python program to convert user input from string to integer, float, and boolean types\n"
   ]
  },
  {
   "cell_type": "code",
   "execution_count": null,
   "id": "29323b69-1b7d-4cc0-9e89-69a14a08b7ec",
   "metadata": {},
   "outputs": [],
   "source": [
    "# Function to convert user input to different types\n",
    "def convert_input():\n",
    "    user_input = input(\"Enter a value: \")\n",
    "\n",
    "    # Convert to integer\n",
    "    try:\n",
    "        integer_value = int(user_input)\n",
    "        print(f\"Converted to integer: {integer_value}\")\n",
    "    except ValueError:\n",
    "        print(\"Cannot convert to integer.\")\n",
    "\n",
    "    # Convert to float\n",
    "    try:\n",
    "        float_value = float(user_input)\n",
    "        print(f\"Converted to float: {float_value}\")\n",
    "    except ValueError:\n",
    "        print(\"Cannot convert to float.\")\n",
    "\n",
    "    # Convert to boolean\n",
    "    # For boolean conversion, we consider non-empty strings as True and empty strings as False\n",
    "    if user_input.strip().lower() in ['true', '1', 'yes']:\n",
    "        boolean_value = True\n",
    "    elif user_input.strip().lower() in ['false', '0', 'no']:\n",
    "        boolean_value = False\n",
    "    else:\n",
    "        boolean_value = bool(user_input)  # Convert non-empty strings to True, empty strings to False\n",
    "    print(f\"Converted to boolean: {boolean_value}\")\n",
    "\n",
    "# Call the function\n",
    "convert_input()\n"
   ]
  },
  {
   "cell_type": "code",
   "execution_count": null,
   "id": "9e9780ee-bd21-4ba8-a200-b9be93f5fba7",
   "metadata": {},
   "outputs": [],
   "source": [
    "# 10.  Write code to demonstrate type casting with list elements.\n"
   ]
  },
  {
   "cell_type": "code",
   "execution_count": null,
   "id": "56104ef4-165d-447f-8ab7-2b306613678b",
   "metadata": {},
   "outputs": [],
   "source": [
    "def type_casting_demo():\n",
    "    # Original list with elements of different types (string and float)\n",
    "    mixed_list = ['1', '2.5', '3', '4.0', '5']\n",
    "\n",
    "    # Convert all string elements to integers and floats\n",
    "    casted_to_int = [int(x) if '.' not in x else float(x) for x in mixed_list]\n",
    "    \n",
    "    print(\"Original list:\", mixed_list)\n",
    "    print(\"List after type casting to appropriate types (int/float):\", casted_to_int)\n",
    "    \n",
    "    # Convert all elements to string\n",
    "    casted_to_str = [str(x) for x in casted_to_int]\n",
    "    print(\"List after type casting all elements to strings:\", casted_to_str)\n",
    "\n",
    "# Call the function\n",
    "type_casting_demo()\n"
   ]
  },
  {
   "cell_type": "raw",
   "id": "ff7be2eb-1960-4893-bbcf-19eb04756009",
   "metadata": {},
   "source": [
    "# 11. Write a program that checks if a number is positive, negative, or zero.\n"
   ]
  },
  {
   "cell_type": "code",
   "execution_count": null,
   "id": "910e09c3-35e6-4638-a911-af93368ed1a4",
   "metadata": {},
   "outputs": [],
   "source": [
    "def check_number():\n",
    "    # Take input from the user\n",
    "    number = float(input(\"Enter a number: \"))  # Convert the input to a float\n",
    "    \n",
    "    # Check if the number is positive, negative, or zero\n",
    "    if number > 0:\n",
    "        print(f\"The number {number} is positive.\")\n",
    "    elif number < 0:\n",
    "        print(f\"The number {number} is negative.\")\n",
    "    else:\n",
    "        print(f\"The number {number} is zero.\")\n",
    "\n",
    "# Call the function\n",
    "check_number()\n"
   ]
  },
  {
   "cell_type": "raw",
   "id": "eee03a40-fd81-4889-8587-abec42d75461",
   "metadata": {},
   "source": [
    "# 12.  Write a for loop to print numbers from 1 to 10.\n"
   ]
  },
  {
   "cell_type": "code",
   "execution_count": null,
   "id": "4a9286d0-e34b-40d4-a78c-2b65557a3472",
   "metadata": {},
   "outputs": [],
   "source": [
    "# Using a for loop to print numbers from 1 to 100\n",
    "for number in range(1, 101):\n",
    "    print(number)\n"
   ]
  },
  {
   "cell_type": "code",
   "execution_count": null,
   "id": "12955ece-4a62-4d25-8b2d-7f55ae6077b4",
   "metadata": {},
   "outputs": [],
   "source": [
    "# Using a for loop to print numbers from 1 to 10\n",
    "for number in range(1, 11):\n",
    "    print(number)\n"
   ]
  },
  {
   "cell_type": "raw",
   "id": "b38a6bca-855d-43b6-9d9f-b048f611c6c7",
   "metadata": {},
   "source": [
    "# 13. Write a Python program to find the sum of all even numbers between 1 and 50.\n"
   ]
  },
  {
   "cell_type": "code",
   "execution_count": null,
   "id": "e3c62d10-636f-4905-8e57-1124e3fca821",
   "metadata": {},
   "outputs": [],
   "source": [
    "# Initialize the sum variable\n",
    "sum_of_evens = 0\n",
    "\n",
    "# Loop through numbers from 1 to 50\n",
    "for number in range(1, 51):\n",
    "    if number % 2 == 0:  # Check if the number is even\n",
    "        sum_of_evens += number  # Add the even number to the sum\n",
    "\n",
    "# Print the result\n",
    "print(f\"The sum of all even numbers between 1 and 50 is: {sum_of_evens}\")\n"
   ]
  },
  {
   "cell_type": "raw",
   "id": "3f697605-3889-465b-ad74-af715a811379",
   "metadata": {},
   "source": [
    "# 14. Write a program to reverse a string using a while loop.\n"
   ]
  },
  {
   "cell_type": "code",
   "execution_count": null,
   "id": "a9338d3e-aa4b-4d60-887e-62126c1d473d",
   "metadata": {},
   "outputs": [],
   "source": [
    "def reverse_string(input_string):\n",
    "    # Initialize an empty string to store the reversed string\n",
    "    reversed_string = \"\"\n",
    "    \n",
    "    # Set an index to the last character of the input string\n",
    "    index = len(input_string) - 1\n",
    "    \n",
    "    # Use a while loop to reverse the string\n",
    "    while index >= 0:\n",
    "        reversed_string += input_string[index]  # Add the character to the reversed string\n",
    "        index -= 1  # Move to the previous character\n",
    "    \n",
    "    return reversed_string\n",
    "\n",
    "# Example usage\n",
    "input_str = input(\"Enter a string: \")\n",
    "reversed_str = reverse_string(input_str)\n",
    "print(f\"Reversed string: {reversed_str}\")\n"
   ]
  },
  {
   "cell_type": "raw",
   "id": "8415a578-0a17-4ebd-9050-dec3af13a601",
   "metadata": {},
   "source": [
    "# 15.Write a Python program to calculate the factorial of a number provided by the user using a while loop.\n"
   ]
  },
  {
   "cell_type": "raw",
   "id": "9d4313a5-197d-4384-b4b2-704ca83aebaf",
   "metadata": {},
   "source": [
    "def factorial(number):\n",
    "    # Initialize the result to 1 (since factorial of 0 is 1)\n",
    "    result = 1\n",
    "    \n",
    "    # Use a while loop to multiply the result by each number from 1 to the given number\n",
    "    while number > 1:\n",
    "        result *= number  # Multiply result by the current number\n",
    "        number -= 1  # Decrease the number by 1\n",
    "    \n",
    "    return result\n",
    "\n",
    "# Get user input\n",
    "user_input = int(input(\"Enter a number to calculate its factorial: \"))\n",
    "\n",
    "# Calculate the factorial\n",
    "factorial_result = factorial(user_input)\n",
    "\n",
    "# Display the result\n",
    "print(f\"The factorial of {user_input} is {factorial_result}\")\n"
   ]
  },
  {
   "cell_type": "markdown",
   "id": "f44a6afb-48ee-4f3e-b363-7c6e097d79a7",
   "metadata": {},
   "source": []
  }
 ],
 "metadata": {
  "kernelspec": {
   "display_name": "Python 3 (ipykernel)",
   "language": "python",
   "name": "python3"
  },
  "language_info": {
   "codemirror_mode": {
    "name": "ipython",
    "version": 3
   },
   "file_extension": ".py",
   "mimetype": "text/x-python",
   "name": "python",
   "nbconvert_exporter": "python",
   "pygments_lexer": "ipython3",
   "version": "3.12.7"
  }
 },
 "nbformat": 4,
 "nbformat_minor": 5
}
